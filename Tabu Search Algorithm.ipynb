{
 "cells": [
  {
   "cell_type": "code",
   "execution_count": null,
   "id": "a32ad453",
   "metadata": {},
   "outputs": [],
   "source": [
    "## Tabu Search Algorithm\n"
   ]
  },
  {
   "cell_type": "code",
   "execution_count": null,
   "id": "733df65b",
   "metadata": {},
   "outputs": [],
   "source": [
    "# To find the neighbor or temporary path giving us the minimum sum\n",
    "def compare_neighbors(neighbors, tabu_list, adjacency_matrix, best_neighbor = None, best_neighbor_fitness = float('inf')):\n",
    "    for neighbor in neighbors:\n",
    "        d = distance(neighbor, adjacency_matrix)\n",
    "        if neighbor not in tabu_list and d < best_neighbor_fitness:\n",
    "            best_neighbor_fitness = d\n",
    "            best_neighbor = neighbor\n",
    "    \n",
    "    return best_neighbor, best_neighbor_fitness"
   ]
  },
  {
   "cell_type": "code",
   "execution_count": null,
   "id": "9e157940",
   "metadata": {},
   "outputs": [],
   "source": [
    "def tabu_search(adjacency_matrix, max_iterations):\n",
    "    initial_solution = list(range(len(adjacency_matrix)))\n",
    "    random.shuffle(initial_solution)\n",
    "        \n",
    "    best_solution = initial_solution.copy()\n",
    "    current_solution = initial_solution.copy()\n",
    "    tabu_list = []\n",
    "    \n",
    "    for _ in range(max_iterations):\n",
    "        neighbors = generate_neighbors(current_solution, len(adjacency_matrix))\n",
    "        best_neighbor, best_neighbor_fitness =  compare_neighbors(neighbors, tabu_list, adjacency_matrix)\n",
    "        \n",
    "        if best_neighbor is None:\n",
    "            break\n",
    "        \n",
    "        tabu_list.append(best_neighbor)\n",
    "        current_solution = best_neighbor\n",
    "        \n",
    "        if distance(best_neighbor, adjacency_matrix) < distance(best_solution, adjacency_matrix):\n",
    "            best_solution = best_neighbor\n",
    "    \n",
    "    return best_solution, distance(best_solution, adjacency_matrix)"
   ]
  },
  {
   "cell_type": "code",
   "execution_count": null,
   "id": "66a420ca",
   "metadata": {},
   "outputs": [],
   "source": [
    "# Undirected graph\n",
    "adjacency_matrix = [\n",
    "    [0, 2, 1, 1, 4],\n",
    "    [2, 0, 9, 1, 1],\n",
    "    [1, 9, 0, 5, 1],\n",
    "    [1, 1, 5, 0, 3],\n",
    "    [4, 1, 1, 3, 0]\n",
    "]\n",
    "tabu_search(adjacency_matrix, 100)"
   ]
  },
  {
   "cell_type": "code",
   "execution_count": null,
   "id": "6d1d15d1",
   "metadata": {},
   "outputs": [],
   "source": [
    "# Undirected graph\n",
    "adjacency_matrix = [\n",
    "    [0, 2, 1, 1, 4, -3, 8, 1],\n",
    "    [2, 0, 9, 1, 1,  2, -1, 10],\n",
    "    [1, 9, 0, 5, 1,  4,  5, 6],\n",
    "    [1, 1, 5, 0, 3,  2, -3, 7],\n",
    "    [4, 1, 1, 3, 0,  7, -7, 3],\n",
    "    [-3,2, 4, 2, 7,  0, -2, 1],\n",
    "    [8,-1, 5,-3,-7, -2,  0, 3],\n",
    "    [1,10, 6, 7, 3,  1,  3, 0]\n",
    "]\n",
    "tabu_search(adjacency_matrix, 100)"
   ]
  }
 ],
 "metadata": {
  "kernelspec": {
   "display_name": "Python 3 (ipykernel)",
   "language": "python",
   "name": "python3"
  },
  "language_info": {
   "codemirror_mode": {
    "name": "ipython",
    "version": 3
   },
   "file_extension": ".py",
   "mimetype": "text/x-python",
   "name": "python",
   "nbconvert_exporter": "python",
   "pygments_lexer": "ipython3",
   "version": "3.11.4"
  }
 },
 "nbformat": 4,
 "nbformat_minor": 5
}

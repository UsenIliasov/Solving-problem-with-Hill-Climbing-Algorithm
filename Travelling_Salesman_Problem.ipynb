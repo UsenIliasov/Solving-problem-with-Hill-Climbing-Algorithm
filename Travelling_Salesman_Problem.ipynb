{
 "cells": [
  {
   "cell_type": "markdown",
   "id": "57729ca5",
   "metadata": {},
   "source": [
    "# Travelling Salesman Problem"
   ]
  },
  {
   "cell_type": "markdown",
   "id": "4920c11c",
   "metadata": {},
   "source": [
    "## Hill Climbing Algorithm"
   ]
  },
  {
   "cell_type": "code",
   "execution_count": 40,
   "id": "2d0fefc4",
   "metadata": {},
   "outputs": [],
   "source": [
    "import random"
   ]
  },
  {
   "cell_type": "code",
   "execution_count": 41,
   "id": "001d3187",
   "metadata": {},
   "outputs": [],
   "source": [
    "# Sides: A, B, C, D, E OR 0, 1, 2, 3, 4\n",
    "# Undirected graph\n",
    "adjacency_matrix = [\n",
    "    #A, B, C, D, E \n",
    "    [0, 2, 1, 1, 4], # A\n",
    "    [2, 0, 9, 1, 1], # B\n",
    "    [1, 9, 0, 5, 1], # C\n",
    "    [1, 1, 5, 0, 3], # D\n",
    "    [4, 1, 1, 3, 0]  # E\n",
    "]"
   ]
  },
  {
   "cell_type": "code",
   "execution_count": 42,
   "id": "030fe199",
   "metadata": {},
   "outputs": [],
   "source": [
    "# Objective function\n",
    "# Path - [0, 2, 4, 1, 3] - [0, 2], [2, 4], [4, 1], [1, 3], [3, 0]\n",
    "def distance(route, adjacency_matrix):\n",
    "    s = 0\n",
    "    for i in range(len(adjacency_matrix) - 1):\n",
    "        s += adjacency_matrix[route[i]][route[i+1]]\n",
    "    s += adjacency_matrix[route[-1]][route[0]]\n",
    "    return s "
   ]
  },
  {
   "cell_type": "code",
   "execution_count": 43,
   "id": "e398f353",
   "metadata": {},
   "outputs": [],
   "source": [
    "def generate_neighbors(route, num_cities):\n",
    "    neighbors = []\n",
    "    for i in range(num_cities):\n",
    "        for j in range(i + 1, num_cities):\n",
    "            neighbor = route.copy()\n",
    "            neighbor[i], neighbor[j] = neighbor[j], neighbor[i]\n",
    "            neighbors.append(neighbor)\n",
    "    return neighbors"
   ]
  },
  {
   "cell_type": "code",
   "execution_count": 44,
   "id": "b0f6eed0",
   "metadata": {},
   "outputs": [],
   "source": [
    "def find_best_neighbor(neighbors, adjacency_matrix):\n",
    "    best_neighbor = neighbors[0]\n",
    "    \n",
    "    for neighbor in neighbors:\n",
    "        if distance(neighbor, adjacency_matrix) < distance(best_neighbor, adjacency_matrix):\n",
    "            best_neighbor = neighbor\n",
    "    \n",
    "    return best_neighbor"
   ]
  },
  {
   "cell_type": "code",
   "execution_count": 45,
   "id": "1aabf886",
   "metadata": {},
   "outputs": [],
   "source": [
    "def hill_climbing(max_iterations, adjacency_matrix):\n",
    "    current_solution = list(range(len(adjacency_matrix)))\n",
    "    random.shuffle(current_solution)\n",
    "    \n",
    "    for _ in range(max_iterations):\n",
    "        neighbors = generate_neighbors(current_solution, len(adjacency_matrix))  \n",
    "        best_neighbor = find_best_neighbor(neighbors, adjacency_matrix)\n",
    "        if distance(best_neighbor, adjacency_matrix) < distance(current_solution, adjacency_matrix):  \n",
    "            current_solution = best_neighbor\n",
    "                    \n",
    "    return current_solution"
   ]
  },
  {
   "cell_type": "code",
   "execution_count": 46,
   "id": "20e00a88",
   "metadata": {},
   "outputs": [
    {
     "name": "stdout",
     "output_type": "stream",
     "text": [
      "[2, 4, 1, 3, 0] 5\n"
     ]
    }
   ],
   "source": [
    "ans = hill_climbing(1, adjacency_matrix)\n",
    "print(ans, distance(ans, adjacency_matrix))"
   ]
  },
  {
   "cell_type": "code",
   "execution_count": 25,
   "id": "f460bcd9",
   "metadata": {},
   "outputs": [
    {
     "data": {
      "text/plain": [
       "[[0, 1, 4, 3, 2],\n",
       " [4, 0, 1, 3, 2],\n",
       " [3, 0, 4, 1, 2],\n",
       " [2, 0, 4, 3, 1],\n",
       " [1, 4, 0, 3, 2],\n",
       " [1, 3, 4, 0, 2],\n",
       " [1, 2, 4, 3, 0],\n",
       " [1, 0, 3, 4, 2],\n",
       " [1, 0, 2, 3, 4],\n",
       " [1, 0, 4, 2, 3]]"
      ]
     },
     "execution_count": 25,
     "metadata": {},
     "output_type": "execute_result"
    }
   ],
   "source": [
    "generate_neighbors([1, 0, 4 , 3, 2], 5)"
   ]
  },
  {
   "cell_type": "markdown",
   "id": "1f733d52",
   "metadata": {},
   "source": [
    "#### Another adjacency matrix"
   ]
  },
  {
   "cell_type": "code",
   "execution_count": 54,
   "id": "71280b86",
   "metadata": {},
   "outputs": [],
   "source": [
    "# Undirected graph\n",
    "adjacency_matrix = [\n",
    "    #A, B, C, D, E, F, G, H\n",
    "    [0, 3, 1, 1, 4, 3, 8, 1], #A\n",
    "    [2, 0, 9, 1, 1,  2, 1, 10], #B\n",
    "    [1, 9, 0, 4, 1,  4,  5, 6],#C\n",
    "    [1, 1, 5, 0, 6,  2, 3, 7],#D\n",
    "    [4, 1, 1, 3, 0,  4, 7, 3],#E\n",
    "    [3,2, 4, 2, 7,  0, 8, 1],#F\n",
    "    [8,1, 5,3, 9, 2,  0, 3],#G\n",
    "    [1,10, 6, 7, 3,  1,  3, 0] #H\n",
    "]"
   ]
  },
  {
   "cell_type": "code",
   "execution_count": 56,
   "id": "6b7b7c8e",
   "metadata": {},
   "outputs": [
    {
     "name": "stdout",
     "output_type": "stream",
     "text": [
      "[6, 5, 3, 1, 4, 2, 0, 7] 12\n"
     ]
    }
   ],
   "source": [
    "ans = hill_climbing(1000, adjacency_matrix)\n",
    "print(ans, distance(ans, adjacency_matrix))"
   ]
  },
  {
   "cell_type": "code",
   "execution_count": 49,
   "id": "7e0cd898",
   "metadata": {},
   "outputs": [
    {
     "name": "stdout",
     "output_type": "stream",
     "text": [
      "[2, 0, 3, 1, 6, 5, 7, 4] 11\n"
     ]
    }
   ],
   "source": [
    "ans = hill_climbing(1000, adjacency_matrix)\n",
    "print(ans, distance(ans, adjacency_matrix))"
   ]
  },
  {
   "cell_type": "code",
   "execution_count": null,
   "id": "1ccf885f",
   "metadata": {},
   "outputs": [],
   "source": []
  }
 ],
 "metadata": {
  "kernelspec": {
   "display_name": "Python 3 (ipykernel)",
   "language": "python",
   "name": "python3"
  },
  "language_info": {
   "codemirror_mode": {
    "name": "ipython",
    "version": 3
   },
   "file_extension": ".py",
   "mimetype": "text/x-python",
   "name": "python",
   "nbconvert_exporter": "python",
   "pygments_lexer": "ipython3",
   "version": "3.11.4"
  }
 },
 "nbformat": 4,
 "nbformat_minor": 5
}
